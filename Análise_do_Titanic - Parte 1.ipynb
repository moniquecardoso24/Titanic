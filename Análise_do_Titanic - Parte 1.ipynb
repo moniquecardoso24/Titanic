{
 "cells": [
  {
   "cell_type": "markdown",
   "id": "63baa6ef",
   "metadata": {},
   "source": [
    "# Titanic - Machine Learning from Disaster\n",
    "\n",
    "<img src=\"https://storage.googleapis.com/kaggle-competitions/kaggle/3136/logos/header.png\" width=900>\n",
    "\n",
    "- Vamos utilizar os [dados disponíveis no Kaggle](https://www.kaggle.com/competitions/titanic)\n",
    "    - É um dataset de **competição**\n",
    "    - O resultado é avaliado através da **acurácia**:\n",
    "        - _\"Sua pontuação é a porcentagem de passageiros que você prevê corretamente. Isso é conhecido como acurácia.\"_"
   ]
  },
  {
   "cell_type": "markdown",
   "id": "0c68fded",
   "metadata": {},
   "source": [
    "### Começando a entender a base"
   ]
  },
  {
   "cell_type": "markdown",
   "id": "dd058abc",
   "metadata": {},
   "source": [
    "- **Podemos utilizar o ydata-profiling (antigo Pandas Profiling) para começar a entender essa base**\n",
    "    - https://github.com/ydataai/ydata-profiling"
   ]
  },
  {
   "cell_type": "code",
   "execution_count": 1,
   "id": "ca06f81f",
   "metadata": {},
   "outputs": [],
   "source": [
    "# Importando o pandas\n",
    "import pandas as pd"
   ]
  },
  {
   "cell_type": "code",
   "execution_count": 3,
   "id": "3340d81a",
   "metadata": {},
   "outputs": [
    {
     "data": {
      "text/html": [
       "<div>\n",
       "<style scoped>\n",
       "    .dataframe tbody tr th:only-of-type {\n",
       "        vertical-align: middle;\n",
       "    }\n",
       "\n",
       "    .dataframe tbody tr th {\n",
       "        vertical-align: top;\n",
       "    }\n",
       "\n",
       "    .dataframe thead th {\n",
       "        text-align: right;\n",
       "    }\n",
       "</style>\n",
       "<table border=\"1\" class=\"dataframe\">\n",
       "  <thead>\n",
       "    <tr style=\"text-align: right;\">\n",
       "      <th></th>\n",
       "      <th>PassengerId</th>\n",
       "      <th>Survived</th>\n",
       "      <th>Pclass</th>\n",
       "      <th>Name</th>\n",
       "      <th>Sex</th>\n",
       "      <th>Age</th>\n",
       "      <th>SibSp</th>\n",
       "      <th>Parch</th>\n",
       "      <th>Ticket</th>\n",
       "      <th>Fare</th>\n",
       "      <th>Cabin</th>\n",
       "      <th>Embarked</th>\n",
       "    </tr>\n",
       "  </thead>\n",
       "  <tbody>\n",
       "    <tr>\n",
       "      <th>0</th>\n",
       "      <td>1</td>\n",
       "      <td>0</td>\n",
       "      <td>3</td>\n",
       "      <td>Braund, Mr. Owen Harris</td>\n",
       "      <td>male</td>\n",
       "      <td>22.0</td>\n",
       "      <td>1</td>\n",
       "      <td>0</td>\n",
       "      <td>A/5 21171</td>\n",
       "      <td>7.2500</td>\n",
       "      <td>NaN</td>\n",
       "      <td>S</td>\n",
       "    </tr>\n",
       "    <tr>\n",
       "      <th>1</th>\n",
       "      <td>2</td>\n",
       "      <td>1</td>\n",
       "      <td>1</td>\n",
       "      <td>Cumings, Mrs. John Bradley (Florence Briggs Th...</td>\n",
       "      <td>female</td>\n",
       "      <td>38.0</td>\n",
       "      <td>1</td>\n",
       "      <td>0</td>\n",
       "      <td>PC 17599</td>\n",
       "      <td>71.2833</td>\n",
       "      <td>C85</td>\n",
       "      <td>C</td>\n",
       "    </tr>\n",
       "    <tr>\n",
       "      <th>2</th>\n",
       "      <td>3</td>\n",
       "      <td>1</td>\n",
       "      <td>3</td>\n",
       "      <td>Heikkinen, Miss. Laina</td>\n",
       "      <td>female</td>\n",
       "      <td>26.0</td>\n",
       "      <td>0</td>\n",
       "      <td>0</td>\n",
       "      <td>STON/O2. 3101282</td>\n",
       "      <td>7.9250</td>\n",
       "      <td>NaN</td>\n",
       "      <td>S</td>\n",
       "    </tr>\n",
       "    <tr>\n",
       "      <th>3</th>\n",
       "      <td>4</td>\n",
       "      <td>1</td>\n",
       "      <td>1</td>\n",
       "      <td>Futrelle, Mrs. Jacques Heath (Lily May Peel)</td>\n",
       "      <td>female</td>\n",
       "      <td>35.0</td>\n",
       "      <td>1</td>\n",
       "      <td>0</td>\n",
       "      <td>113803</td>\n",
       "      <td>53.1000</td>\n",
       "      <td>C123</td>\n",
       "      <td>S</td>\n",
       "    </tr>\n",
       "    <tr>\n",
       "      <th>4</th>\n",
       "      <td>5</td>\n",
       "      <td>0</td>\n",
       "      <td>3</td>\n",
       "      <td>Allen, Mr. William Henry</td>\n",
       "      <td>male</td>\n",
       "      <td>35.0</td>\n",
       "      <td>0</td>\n",
       "      <td>0</td>\n",
       "      <td>373450</td>\n",
       "      <td>8.0500</td>\n",
       "      <td>NaN</td>\n",
       "      <td>S</td>\n",
       "    </tr>\n",
       "  </tbody>\n",
       "</table>\n",
       "</div>"
      ],
      "text/plain": [
       "   PassengerId  Survived  Pclass  \\\n",
       "0            1         0       3   \n",
       "1            2         1       1   \n",
       "2            3         1       3   \n",
       "3            4         1       1   \n",
       "4            5         0       3   \n",
       "\n",
       "                                                Name     Sex   Age  SibSp  \\\n",
       "0                            Braund, Mr. Owen Harris    male  22.0      1   \n",
       "1  Cumings, Mrs. John Bradley (Florence Briggs Th...  female  38.0      1   \n",
       "2                             Heikkinen, Miss. Laina  female  26.0      0   \n",
       "3       Futrelle, Mrs. Jacques Heath (Lily May Peel)  female  35.0      1   \n",
       "4                           Allen, Mr. William Henry    male  35.0      0   \n",
       "\n",
       "   Parch            Ticket     Fare Cabin Embarked  \n",
       "0      0         A/5 21171   7.2500   NaN        S  \n",
       "1      0          PC 17599  71.2833   C85        C  \n",
       "2      0  STON/O2. 3101282   7.9250   NaN        S  \n",
       "3      0            113803  53.1000  C123        S  \n",
       "4      0            373450   8.0500   NaN        S  "
      ]
     },
     "execution_count": 3,
     "metadata": {},
     "output_type": "execute_result"
    }
   ],
   "source": [
    "# Visualizando a base de treino\n",
    "\n",
    "treino = pd.read_csv(\"train.csv\")\n",
    "treino.head()"
   ]
  },
  {
   "cell_type": "code",
   "execution_count": 6,
   "id": "038f93dd",
   "metadata": {},
   "outputs": [
    {
     "name": "stdout",
     "output_type": "stream",
     "text": [
      "Requirement already satisfied: ydata-profiling in c:\\users\\moniq\\appdata\\local\\anaconda3\\lib\\site-packages (4.3.1)\n",
      "Requirement already satisfied: tqdm<5,>=4.48.2 in c:\\users\\moniq\\appdata\\local\\anaconda3\\lib\\site-packages (from ydata-profiling) (4.64.1)\n",
      "Requirement already satisfied: htmlmin==0.1.12 in c:\\users\\moniq\\appdata\\local\\anaconda3\\lib\\site-packages (from ydata-profiling) (0.1.12)\n",
      "Requirement already satisfied: numpy<1.24,>=1.16.0 in c:\\users\\moniq\\appdata\\local\\anaconda3\\lib\\site-packages (from ydata-profiling) (1.23.5)\n",
      "Requirement already satisfied: imagehash==4.3.1 in c:\\users\\moniq\\appdata\\local\\anaconda3\\lib\\site-packages (from ydata-profiling) (4.3.1)\n",
      "Requirement already satisfied: jinja2<3.2,>=2.11.1 in c:\\users\\moniq\\appdata\\local\\anaconda3\\lib\\site-packages (from ydata-profiling) (3.1.2)\n",
      "Requirement already satisfied: pandas!=1.4.0,<2.1,>1.1 in c:\\users\\moniq\\appdata\\local\\anaconda3\\lib\\site-packages (from ydata-profiling) (1.5.3)\n",
      "Requirement already satisfied: multimethod<2,>=1.4 in c:\\users\\moniq\\appdata\\local\\anaconda3\\lib\\site-packages (from ydata-profiling) (1.9.1)\n",
      "Requirement already satisfied: statsmodels<1,>=0.13.2 in c:\\users\\moniq\\appdata\\local\\anaconda3\\lib\\site-packages (from ydata-profiling) (0.13.5)\n",
      "Requirement already satisfied: PyYAML<6.1,>=5.0.0 in c:\\users\\moniq\\appdata\\local\\anaconda3\\lib\\site-packages (from ydata-profiling) (6.0)\n",
      "Requirement already satisfied: pydantic<2,>=1.8.1 in c:\\users\\moniq\\appdata\\local\\anaconda3\\lib\\site-packages (from ydata-profiling) (1.10.11)\n",
      "Requirement already satisfied: visions[type_image_path]==0.7.5 in c:\\users\\moniq\\appdata\\local\\anaconda3\\lib\\site-packages (from ydata-profiling) (0.7.5)\n",
      "Requirement already satisfied: scipy<1.11,>=1.4.1 in c:\\users\\moniq\\appdata\\local\\anaconda3\\lib\\site-packages (from ydata-profiling) (1.10.0)\n",
      "Requirement already satisfied: phik<0.13,>=0.11.1 in c:\\users\\moniq\\appdata\\local\\anaconda3\\lib\\site-packages (from ydata-profiling) (0.12.3)\n",
      "Requirement already satisfied: matplotlib<4,>=3.2 in c:\\users\\moniq\\appdata\\local\\anaconda3\\lib\\site-packages (from ydata-profiling) (3.7.0)\n",
      "Requirement already satisfied: wordcloud>=1.9.1 in c:\\users\\moniq\\appdata\\local\\anaconda3\\lib\\site-packages (from ydata-profiling) (1.9.2)\n",
      "Requirement already satisfied: requests<3,>=2.24.0 in c:\\users\\moniq\\appdata\\local\\anaconda3\\lib\\site-packages (from ydata-profiling) (2.28.1)\n",
      "Requirement already satisfied: dacite>=1.8 in c:\\users\\moniq\\appdata\\local\\anaconda3\\lib\\site-packages (from ydata-profiling) (1.8.1)\n",
      "Requirement already satisfied: typeguard<3,>=2.13.2 in c:\\users\\moniq\\appdata\\local\\anaconda3\\lib\\site-packages (from ydata-profiling) (2.13.3)\n",
      "Requirement already satisfied: seaborn<0.13,>=0.10.1 in c:\\users\\moniq\\appdata\\local\\anaconda3\\lib\\site-packages (from ydata-profiling) (0.12.2)\n",
      "Requirement already satisfied: pillow in c:\\users\\moniq\\appdata\\local\\anaconda3\\lib\\site-packages (from imagehash==4.3.1->ydata-profiling) (9.4.0)\n",
      "Requirement already satisfied: PyWavelets in c:\\users\\moniq\\appdata\\local\\anaconda3\\lib\\site-packages (from imagehash==4.3.1->ydata-profiling) (1.4.1)\n",
      "Requirement already satisfied: networkx>=2.4 in c:\\users\\moniq\\appdata\\local\\anaconda3\\lib\\site-packages (from visions[type_image_path]==0.7.5->ydata-profiling) (2.8.4)\n",
      "Requirement already satisfied: attrs>=19.3.0 in c:\\users\\moniq\\appdata\\local\\anaconda3\\lib\\site-packages (from visions[type_image_path]==0.7.5->ydata-profiling) (22.1.0)\n",
      "Requirement already satisfied: tangled-up-in-unicode>=0.0.4 in c:\\users\\moniq\\appdata\\local\\anaconda3\\lib\\site-packages (from visions[type_image_path]==0.7.5->ydata-profiling) (0.2.0)\n",
      "Requirement already satisfied: MarkupSafe>=2.0 in c:\\users\\moniq\\appdata\\local\\anaconda3\\lib\\site-packages (from jinja2<3.2,>=2.11.1->ydata-profiling) (2.1.1)\n",
      "Requirement already satisfied: fonttools>=4.22.0 in c:\\users\\moniq\\appdata\\local\\anaconda3\\lib\\site-packages (from matplotlib<4,>=3.2->ydata-profiling) (4.25.0)\n",
      "Requirement already satisfied: pyparsing>=2.3.1 in c:\\users\\moniq\\appdata\\local\\anaconda3\\lib\\site-packages (from matplotlib<4,>=3.2->ydata-profiling) (3.0.9)\n",
      "Requirement already satisfied: contourpy>=1.0.1 in c:\\users\\moniq\\appdata\\local\\anaconda3\\lib\\site-packages (from matplotlib<4,>=3.2->ydata-profiling) (1.0.5)\n",
      "Requirement already satisfied: python-dateutil>=2.7 in c:\\users\\moniq\\appdata\\local\\anaconda3\\lib\\site-packages (from matplotlib<4,>=3.2->ydata-profiling) (2.8.2)\n",
      "Requirement already satisfied: packaging>=20.0 in c:\\users\\moniq\\appdata\\local\\anaconda3\\lib\\site-packages (from matplotlib<4,>=3.2->ydata-profiling) (22.0)\n",
      "Requirement already satisfied: kiwisolver>=1.0.1 in c:\\users\\moniq\\appdata\\local\\anaconda3\\lib\\site-packages (from matplotlib<4,>=3.2->ydata-profiling) (1.4.4)\n",
      "Requirement already satisfied: cycler>=0.10 in c:\\users\\moniq\\appdata\\local\\anaconda3\\lib\\site-packages (from matplotlib<4,>=3.2->ydata-profiling) (0.11.0)\n",
      "Requirement already satisfied: pytz>=2020.1 in c:\\users\\moniq\\appdata\\local\\anaconda3\\lib\\site-packages (from pandas!=1.4.0,<2.1,>1.1->ydata-profiling) (2022.7)\n",
      "Requirement already satisfied: joblib>=0.14.1 in c:\\users\\moniq\\appdata\\local\\anaconda3\\lib\\site-packages (from phik<0.13,>=0.11.1->ydata-profiling) (1.1.1)\n",
      "Requirement already satisfied: typing-extensions>=4.2.0 in c:\\users\\moniq\\appdata\\local\\anaconda3\\lib\\site-packages (from pydantic<2,>=1.8.1->ydata-profiling) (4.4.0)\n",
      "Requirement already satisfied: charset-normalizer<3,>=2 in c:\\users\\moniq\\appdata\\local\\anaconda3\\lib\\site-packages (from requests<3,>=2.24.0->ydata-profiling) (2.0.4)\n",
      "Requirement already satisfied: idna<4,>=2.5 in c:\\users\\moniq\\appdata\\local\\anaconda3\\lib\\site-packages (from requests<3,>=2.24.0->ydata-profiling) (3.4)\n",
      "Requirement already satisfied: certifi>=2017.4.17 in c:\\users\\moniq\\appdata\\local\\anaconda3\\lib\\site-packages (from requests<3,>=2.24.0->ydata-profiling) (2022.12.7)\n",
      "Requirement already satisfied: urllib3<1.27,>=1.21.1 in c:\\users\\moniq\\appdata\\local\\anaconda3\\lib\\site-packages (from requests<3,>=2.24.0->ydata-profiling) (1.26.14)\n",
      "Requirement already satisfied: patsy>=0.5.2 in c:\\users\\moniq\\appdata\\local\\anaconda3\\lib\\site-packages (from statsmodels<1,>=0.13.2->ydata-profiling) (0.5.3)\n",
      "Requirement already satisfied: colorama in c:\\users\\moniq\\appdata\\local\\anaconda3\\lib\\site-packages (from tqdm<5,>=4.48.2->ydata-profiling) (0.4.6)\n",
      "Requirement already satisfied: six in c:\\users\\moniq\\appdata\\local\\anaconda3\\lib\\site-packages (from patsy>=0.5.2->statsmodels<1,>=0.13.2->ydata-profiling) (1.16.0)\n"
     ]
    }
   ],
   "source": [
    "# Importando o ProfileReport do ydata-profiling\n",
    "!pip install ydata-profiling\n",
    "\n",
    "from ydata_profiling import ProfileReport"
   ]
  },
  {
   "cell_type": "code",
   "execution_count": 7,
   "id": "c3ddf6be",
   "metadata": {},
   "outputs": [],
   "source": [
    "# Gerando a visualização\n",
    "profile = ProfileReport(treino, title=\"Titanic_Treino\")"
   ]
  },
  {
   "cell_type": "code",
   "execution_count": 8,
   "id": "e5572df9",
   "metadata": {},
   "outputs": [
    {
     "data": {
      "application/vnd.jupyter.widget-view+json": {
       "model_id": "753f2064beab4a8ba27bf760d549068f",
       "version_major": 2,
       "version_minor": 0
      },
      "text/plain": [
       "Summarize dataset:   0%|          | 0/5 [00:00<?, ?it/s]"
      ]
     },
     "metadata": {},
     "output_type": "display_data"
    },
    {
     "data": {
      "application/vnd.jupyter.widget-view+json": {
       "model_id": "289e0a9c71db47f39ff20e5874213a01",
       "version_major": 2,
       "version_minor": 0
      },
      "text/plain": [
       "Generate report structure:   0%|          | 0/1 [00:00<?, ?it/s]"
      ]
     },
     "metadata": {},
     "output_type": "display_data"
    },
    {
     "data": {
      "application/vnd.jupyter.widget-view+json": {
       "model_id": "d66e037888044e429afd3771b9cf23fa",
       "version_major": 2,
       "version_minor": 0
      },
      "text/plain": [
       "Render HTML:   0%|          | 0/1 [00:00<?, ?it/s]"
      ]
     },
     "metadata": {},
     "output_type": "display_data"
    },
    {
     "data": {
      "application/vnd.jupyter.widget-view+json": {
       "model_id": "89476f31ff9c432488db8d69c414fcc8",
       "version_major": 2,
       "version_minor": 0
      },
      "text/plain": [
       "Export report to file:   0%|          | 0/1 [00:00<?, ?it/s]"
      ]
     },
     "metadata": {},
     "output_type": "display_data"
    }
   ],
   "source": [
    "# Criando o relatório - exportar para html\n",
    "profile.to_file(\"Titanic_Treino.html\")"
   ]
  },
  {
   "cell_type": "markdown",
   "id": "f3be84d2",
   "metadata": {},
   "source": [
    "- **Agora vamos analisar essa base**"
   ]
  },
  {
   "cell_type": "code",
   "execution_count": 9,
   "id": "bc6de0a9",
   "metadata": {},
   "outputs": [
    {
     "name": "stdout",
     "output_type": "stream",
     "text": [
      "<class 'pandas.core.frame.DataFrame'>\n",
      "RangeIndex: 891 entries, 0 to 890\n",
      "Data columns (total 12 columns):\n",
      " #   Column       Non-Null Count  Dtype  \n",
      "---  ------       --------------  -----  \n",
      " 0   PassengerId  891 non-null    int64  \n",
      " 1   Survived     891 non-null    int64  \n",
      " 2   Pclass       891 non-null    int64  \n",
      " 3   Name         891 non-null    object \n",
      " 4   Sex          891 non-null    object \n",
      " 5   Age          714 non-null    float64\n",
      " 6   SibSp        891 non-null    int64  \n",
      " 7   Parch        891 non-null    int64  \n",
      " 8   Ticket       891 non-null    object \n",
      " 9   Fare         891 non-null    float64\n",
      " 10  Cabin        204 non-null    object \n",
      " 11  Embarked     889 non-null    object \n",
      "dtypes: float64(2), int64(5), object(5)\n",
      "memory usage: 83.7+ KB\n"
     ]
    }
   ],
   "source": [
    "# Verificando as informações da base\n",
    "treino.info()"
   ]
  },
  {
   "cell_type": "code",
   "execution_count": 10,
   "id": "aca4334d",
   "metadata": {},
   "outputs": [
    {
     "data": {
      "text/plain": [
       "int64      5\n",
       "object     5\n",
       "float64    2\n",
       "dtype: int64"
      ]
     },
     "execution_count": 10,
     "metadata": {},
     "output_type": "execute_result"
    }
   ],
   "source": [
    "# Verificando o tipo dos dados - dtypes\n",
    "treino.dtypes.value_counts()"
   ]
  },
  {
   "cell_type": "code",
   "execution_count": 11,
   "id": "279f17dc",
   "metadata": {},
   "outputs": [
    {
     "data": {
      "text/plain": [
       "Cabin          687\n",
       "Age            177\n",
       "Embarked         2\n",
       "PassengerId      0\n",
       "Survived         0\n",
       "dtype: int64"
      ]
     },
     "execution_count": 11,
     "metadata": {},
     "output_type": "execute_result"
    }
   ],
   "source": [
    "# E os valores nulos - isnull\n",
    "treino.isnull().sum().sort_values(ascending=False).head(5)\n",
    "\n",
    "#sum - somar\n",
    "#sort_values(ascending=False) - ordenar do maior ao menor\n",
    "#head(5) - 5 primeiros valores"
   ]
  },
  {
   "cell_type": "markdown",
   "id": "b89509f7",
   "metadata": {},
   "source": [
    "- **Agora vamos visualizar a base de teste**"
   ]
  },
  {
   "cell_type": "code",
   "execution_count": 12,
   "id": "87c1caaa",
   "metadata": {},
   "outputs": [
    {
     "data": {
      "text/html": [
       "<div>\n",
       "<style scoped>\n",
       "    .dataframe tbody tr th:only-of-type {\n",
       "        vertical-align: middle;\n",
       "    }\n",
       "\n",
       "    .dataframe tbody tr th {\n",
       "        vertical-align: top;\n",
       "    }\n",
       "\n",
       "    .dataframe thead th {\n",
       "        text-align: right;\n",
       "    }\n",
       "</style>\n",
       "<table border=\"1\" class=\"dataframe\">\n",
       "  <thead>\n",
       "    <tr style=\"text-align: right;\">\n",
       "      <th></th>\n",
       "      <th>PassengerId</th>\n",
       "      <th>Pclass</th>\n",
       "      <th>Name</th>\n",
       "      <th>Sex</th>\n",
       "      <th>Age</th>\n",
       "      <th>SibSp</th>\n",
       "      <th>Parch</th>\n",
       "      <th>Ticket</th>\n",
       "      <th>Fare</th>\n",
       "      <th>Cabin</th>\n",
       "      <th>Embarked</th>\n",
       "    </tr>\n",
       "  </thead>\n",
       "  <tbody>\n",
       "    <tr>\n",
       "      <th>0</th>\n",
       "      <td>892</td>\n",
       "      <td>3</td>\n",
       "      <td>Kelly, Mr. James</td>\n",
       "      <td>male</td>\n",
       "      <td>34.5</td>\n",
       "      <td>0</td>\n",
       "      <td>0</td>\n",
       "      <td>330911</td>\n",
       "      <td>7.8292</td>\n",
       "      <td>NaN</td>\n",
       "      <td>Q</td>\n",
       "    </tr>\n",
       "    <tr>\n",
       "      <th>1</th>\n",
       "      <td>893</td>\n",
       "      <td>3</td>\n",
       "      <td>Wilkes, Mrs. James (Ellen Needs)</td>\n",
       "      <td>female</td>\n",
       "      <td>47.0</td>\n",
       "      <td>1</td>\n",
       "      <td>0</td>\n",
       "      <td>363272</td>\n",
       "      <td>7.0000</td>\n",
       "      <td>NaN</td>\n",
       "      <td>S</td>\n",
       "    </tr>\n",
       "    <tr>\n",
       "      <th>2</th>\n",
       "      <td>894</td>\n",
       "      <td>2</td>\n",
       "      <td>Myles, Mr. Thomas Francis</td>\n",
       "      <td>male</td>\n",
       "      <td>62.0</td>\n",
       "      <td>0</td>\n",
       "      <td>0</td>\n",
       "      <td>240276</td>\n",
       "      <td>9.6875</td>\n",
       "      <td>NaN</td>\n",
       "      <td>Q</td>\n",
       "    </tr>\n",
       "    <tr>\n",
       "      <th>3</th>\n",
       "      <td>895</td>\n",
       "      <td>3</td>\n",
       "      <td>Wirz, Mr. Albert</td>\n",
       "      <td>male</td>\n",
       "      <td>27.0</td>\n",
       "      <td>0</td>\n",
       "      <td>0</td>\n",
       "      <td>315154</td>\n",
       "      <td>8.6625</td>\n",
       "      <td>NaN</td>\n",
       "      <td>S</td>\n",
       "    </tr>\n",
       "    <tr>\n",
       "      <th>4</th>\n",
       "      <td>896</td>\n",
       "      <td>3</td>\n",
       "      <td>Hirvonen, Mrs. Alexander (Helga E Lindqvist)</td>\n",
       "      <td>female</td>\n",
       "      <td>22.0</td>\n",
       "      <td>1</td>\n",
       "      <td>1</td>\n",
       "      <td>3101298</td>\n",
       "      <td>12.2875</td>\n",
       "      <td>NaN</td>\n",
       "      <td>S</td>\n",
       "    </tr>\n",
       "  </tbody>\n",
       "</table>\n",
       "</div>"
      ],
      "text/plain": [
       "   PassengerId  Pclass                                          Name     Sex  \\\n",
       "0          892       3                              Kelly, Mr. James    male   \n",
       "1          893       3              Wilkes, Mrs. James (Ellen Needs)  female   \n",
       "2          894       2                     Myles, Mr. Thomas Francis    male   \n",
       "3          895       3                              Wirz, Mr. Albert    male   \n",
       "4          896       3  Hirvonen, Mrs. Alexander (Helga E Lindqvist)  female   \n",
       "\n",
       "    Age  SibSp  Parch   Ticket     Fare Cabin Embarked  \n",
       "0  34.5      0      0   330911   7.8292   NaN        Q  \n",
       "1  47.0      1      0   363272   7.0000   NaN        S  \n",
       "2  62.0      0      0   240276   9.6875   NaN        Q  \n",
       "3  27.0      0      0   315154   8.6625   NaN        S  \n",
       "4  22.0      1      1  3101298  12.2875   NaN        S  "
      ]
     },
     "execution_count": 12,
     "metadata": {},
     "output_type": "execute_result"
    }
   ],
   "source": [
    "# Visualizando a base de teste\n",
    "teste = pd.read_csv(\"test.csv\")\n",
    "teste.head()"
   ]
  },
  {
   "cell_type": "code",
   "execution_count": 13,
   "id": "d3ffcf9f",
   "metadata": {},
   "outputs": [
    {
     "name": "stdout",
     "output_type": "stream",
     "text": [
      "<class 'pandas.core.frame.DataFrame'>\n",
      "RangeIndex: 418 entries, 0 to 417\n",
      "Data columns (total 11 columns):\n",
      " #   Column       Non-Null Count  Dtype  \n",
      "---  ------       --------------  -----  \n",
      " 0   PassengerId  418 non-null    int64  \n",
      " 1   Pclass       418 non-null    int64  \n",
      " 2   Name         418 non-null    object \n",
      " 3   Sex          418 non-null    object \n",
      " 4   Age          332 non-null    float64\n",
      " 5   SibSp        418 non-null    int64  \n",
      " 6   Parch        418 non-null    int64  \n",
      " 7   Ticket       418 non-null    object \n",
      " 8   Fare         417 non-null    float64\n",
      " 9   Cabin        91 non-null     object \n",
      " 10  Embarked     418 non-null    object \n",
      "dtypes: float64(2), int64(4), object(5)\n",
      "memory usage: 36.0+ KB\n"
     ]
    }
   ],
   "source": [
    "# Verificando as informações da base\n",
    "teste.info()"
   ]
  },
  {
   "cell_type": "code",
   "execution_count": 14,
   "id": "e5284e8e",
   "metadata": {},
   "outputs": [
    {
     "data": {
      "text/plain": [
       "Cabin          327\n",
       "Age             86\n",
       "Fare             1\n",
       "PassengerId      0\n",
       "Pclass           0\n",
       "dtype: int64"
      ]
     },
     "execution_count": 14,
     "metadata": {},
     "output_type": "execute_result"
    }
   ],
   "source": [
    "# Analisando os valores nulos - não são os mesmos que os valores nulos de treino\n",
    "teste.isnull().sum().sort_values(ascending=False).head(5)"
   ]
  },
  {
   "cell_type": "markdown",
   "id": "7ed073a4",
   "metadata": {},
   "source": [
    "- Temos colunas que **possuem valores vazios na base de teste que não estão vazias na base de treino** (nesse caso, precisaríamos tratar essas colunas apenas na base de teste)"
   ]
  },
  {
   "cell_type": "markdown",
   "id": "fc72da86",
   "metadata": {},
   "source": [
    "### Realizando os tratamentos iniciais dos dados"
   ]
  },
  {
   "cell_type": "markdown",
   "id": "998c0129",
   "metadata": {},
   "source": [
    "- **Podemos começar tratando os valores vazios**"
   ]
  },
  {
   "cell_type": "code",
   "execution_count": 15,
   "id": "7e4ba3b4",
   "metadata": {
    "scrolled": true
   },
   "outputs": [
    {
     "data": {
      "text/plain": [
       "Cabin          687\n",
       "Age            177\n",
       "Embarked         2\n",
       "PassengerId      0\n",
       "Survived         0\n",
       "dtype: int64"
      ]
     },
     "execution_count": 15,
     "metadata": {},
     "output_type": "execute_result"
    }
   ],
   "source": [
    "# Verificando novamente valores vazios para a base de treino\n",
    "treino.isnull().sum().sort_values(ascending=False).head(5)"
   ]
  },
  {
   "cell_type": "code",
   "execution_count": 16,
   "id": "9aa2473b",
   "metadata": {},
   "outputs": [
    {
     "data": {
      "text/plain": [
       "(891, 12)"
      ]
     },
     "execution_count": 16,
     "metadata": {},
     "output_type": "execute_result"
    }
   ],
   "source": [
    "# Retornando o shape da base\n",
    "treino.shape\n",
    "\n",
    "# há 687 linhas vazias do total de 891 linhas e 12 colunas"
   ]
  },
  {
   "cell_type": "code",
   "execution_count": 17,
   "id": "ee403a62",
   "metadata": {},
   "outputs": [
    {
     "data": {
      "text/html": [
       "<div>\n",
       "<style scoped>\n",
       "    .dataframe tbody tr th:only-of-type {\n",
       "        vertical-align: middle;\n",
       "    }\n",
       "\n",
       "    .dataframe tbody tr th {\n",
       "        vertical-align: top;\n",
       "    }\n",
       "\n",
       "    .dataframe thead th {\n",
       "        text-align: right;\n",
       "    }\n",
       "</style>\n",
       "<table border=\"1\" class=\"dataframe\">\n",
       "  <thead>\n",
       "    <tr style=\"text-align: right;\">\n",
       "      <th></th>\n",
       "      <th>PassengerId</th>\n",
       "      <th>Survived</th>\n",
       "      <th>Pclass</th>\n",
       "      <th>Name</th>\n",
       "      <th>Sex</th>\n",
       "      <th>Age</th>\n",
       "      <th>SibSp</th>\n",
       "      <th>Parch</th>\n",
       "      <th>Ticket</th>\n",
       "      <th>Fare</th>\n",
       "      <th>Cabin</th>\n",
       "      <th>Embarked</th>\n",
       "    </tr>\n",
       "  </thead>\n",
       "  <tbody>\n",
       "    <tr>\n",
       "      <th>0</th>\n",
       "      <td>1</td>\n",
       "      <td>0</td>\n",
       "      <td>3</td>\n",
       "      <td>Braund, Mr. Owen Harris</td>\n",
       "      <td>male</td>\n",
       "      <td>22.0</td>\n",
       "      <td>1</td>\n",
       "      <td>0</td>\n",
       "      <td>A/5 21171</td>\n",
       "      <td>7.2500</td>\n",
       "      <td>NaN</td>\n",
       "      <td>S</td>\n",
       "    </tr>\n",
       "    <tr>\n",
       "      <th>1</th>\n",
       "      <td>2</td>\n",
       "      <td>1</td>\n",
       "      <td>1</td>\n",
       "      <td>Cumings, Mrs. John Bradley (Florence Briggs Th...</td>\n",
       "      <td>female</td>\n",
       "      <td>38.0</td>\n",
       "      <td>1</td>\n",
       "      <td>0</td>\n",
       "      <td>PC 17599</td>\n",
       "      <td>71.2833</td>\n",
       "      <td>C85</td>\n",
       "      <td>C</td>\n",
       "    </tr>\n",
       "    <tr>\n",
       "      <th>2</th>\n",
       "      <td>3</td>\n",
       "      <td>1</td>\n",
       "      <td>3</td>\n",
       "      <td>Heikkinen, Miss. Laina</td>\n",
       "      <td>female</td>\n",
       "      <td>26.0</td>\n",
       "      <td>0</td>\n",
       "      <td>0</td>\n",
       "      <td>STON/O2. 3101282</td>\n",
       "      <td>7.9250</td>\n",
       "      <td>NaN</td>\n",
       "      <td>S</td>\n",
       "    </tr>\n",
       "    <tr>\n",
       "      <th>3</th>\n",
       "      <td>4</td>\n",
       "      <td>1</td>\n",
       "      <td>1</td>\n",
       "      <td>Futrelle, Mrs. Jacques Heath (Lily May Peel)</td>\n",
       "      <td>female</td>\n",
       "      <td>35.0</td>\n",
       "      <td>1</td>\n",
       "      <td>0</td>\n",
       "      <td>113803</td>\n",
       "      <td>53.1000</td>\n",
       "      <td>C123</td>\n",
       "      <td>S</td>\n",
       "    </tr>\n",
       "    <tr>\n",
       "      <th>4</th>\n",
       "      <td>5</td>\n",
       "      <td>0</td>\n",
       "      <td>3</td>\n",
       "      <td>Allen, Mr. William Henry</td>\n",
       "      <td>male</td>\n",
       "      <td>35.0</td>\n",
       "      <td>0</td>\n",
       "      <td>0</td>\n",
       "      <td>373450</td>\n",
       "      <td>8.0500</td>\n",
       "      <td>NaN</td>\n",
       "      <td>S</td>\n",
       "    </tr>\n",
       "  </tbody>\n",
       "</table>\n",
       "</div>"
      ],
      "text/plain": [
       "   PassengerId  Survived  Pclass  \\\n",
       "0            1         0       3   \n",
       "1            2         1       1   \n",
       "2            3         1       3   \n",
       "3            4         1       1   \n",
       "4            5         0       3   \n",
       "\n",
       "                                                Name     Sex   Age  SibSp  \\\n",
       "0                            Braund, Mr. Owen Harris    male  22.0      1   \n",
       "1  Cumings, Mrs. John Bradley (Florence Briggs Th...  female  38.0      1   \n",
       "2                             Heikkinen, Miss. Laina  female  26.0      0   \n",
       "3       Futrelle, Mrs. Jacques Heath (Lily May Peel)  female  35.0      1   \n",
       "4                           Allen, Mr. William Henry    male  35.0      0   \n",
       "\n",
       "   Parch            Ticket     Fare Cabin Embarked  \n",
       "0      0         A/5 21171   7.2500   NaN        S  \n",
       "1      0          PC 17599  71.2833   C85        C  \n",
       "2      0  STON/O2. 3101282   7.9250   NaN        S  \n",
       "3      0            113803  53.1000  C123        S  \n",
       "4      0            373450   8.0500   NaN        S  "
      ]
     },
     "execution_count": 17,
     "metadata": {},
     "output_type": "execute_result"
    }
   ],
   "source": [
    "# Visualizando novamente a base\n",
    "treino.head()"
   ]
  },
  {
   "cell_type": "code",
   "execution_count": 18,
   "id": "1531f335",
   "metadata": {},
   "outputs": [
    {
     "data": {
      "text/plain": [
       "PassengerId    891\n",
       "Name           891\n",
       "Ticket         681\n",
       "Fare           248\n",
       "Cabin          147\n",
       "Age             88\n",
       "SibSp            7\n",
       "Parch            7\n",
       "Pclass           3\n",
       "Embarked         3\n",
       "Survived         2\n",
       "Sex              2\n",
       "dtype: int64"
      ]
     },
     "execution_count": 18,
     "metadata": {},
     "output_type": "execute_result"
    }
   ],
   "source": [
    "# Verificando a cardinalidade dos dados - colunas com muitos valores diferentes\n",
    "treino.nunique().sort_values(ascending=False)"
   ]
  },
  {
   "cell_type": "markdown",
   "id": "0888d08d",
   "metadata": {},
   "source": [
    "- Colunas com **alta cardinalidade** como nome, número do ticket e até mesmo o código da cabine não vão ajudar o modelo pois podem torná-lo **menos generalizável**. Nesse caso, vamos **eliminar essas colunas**"
   ]
  },
  {
   "cell_type": "code",
   "execution_count": 19,
   "id": "7c6e4f4a",
   "metadata": {},
   "outputs": [],
   "source": [
    "# Eliminando para a base de treino\n",
    "treino = treino.drop([\"Name\",\"Ticket\",\"Cabin\"],axis=1) \n",
    "\n",
    "# axis=1 - coluna\n",
    "#coluna PassengerID não será eliminada porque ela é necessária para a análise"
   ]
  },
  {
   "cell_type": "code",
   "execution_count": 20,
   "id": "c91bb2aa",
   "metadata": {},
   "outputs": [],
   "source": [
    "# Também eliminando para a base de teste\n",
    "teste = teste.drop([\"Name\",\"Ticket\",\"Cabin\"],axis=1)"
   ]
  },
  {
   "cell_type": "markdown",
   "id": "2b6a791d",
   "metadata": {},
   "source": [
    "- Agora precisamos tratar a coluna **Age**, que possui valores vazios tanto no treino quanto no teste\n",
    "    - Como essa coluna possui a idade dos passageiros, podemos utilizar a **média das idades** para substituir os valores vazios"
   ]
  },
  {
   "cell_type": "code",
   "execution_count": 21,
   "id": "f79e19b3",
   "metadata": {},
   "outputs": [
    {
     "data": {
      "text/plain": [
       "29.69911764705882"
      ]
     },
     "execution_count": 21,
     "metadata": {},
     "output_type": "execute_result"
    }
   ],
   "source": [
    "# Verificando a média das idades para a base de treino\n",
    "treino.Age.mean()\n",
    "\n",
    "# optou-se por inserir a média das idades na coluna Age ao invés de excluí-la."
   ]
  },
  {
   "cell_type": "code",
   "execution_count": 23,
   "id": "8de59f02",
   "metadata": {},
   "outputs": [],
   "source": [
    "# Podemos agora selecionar as colunas com idade vazia e substituir por essa média\n",
    "treino.loc[treino.Age.isnull(),\"Age\"] = treino.Age.mean()"
   ]
  },
  {
   "cell_type": "code",
   "execution_count": 24,
   "id": "e05e69c1",
   "metadata": {},
   "outputs": [],
   "source": [
    "# E fazendo o mesmo para a base de teste\n",
    "teste.loc[teste.Age.isnull(),\"Age\"] = teste.Age.mean()"
   ]
  },
  {
   "cell_type": "markdown",
   "id": "ea6c07a7",
   "metadata": {},
   "source": [
    "- Para a base de treino, ainda temos 2 valores vazios na coluna **Embarked**\n",
    "    - Podemos verificar todos os valores nessa coluna e substituir os valores vazios pela **moda**"
   ]
  },
  {
   "cell_type": "code",
   "execution_count": 26,
   "id": "600aa621",
   "metadata": {},
   "outputs": [
    {
     "data": {
      "text/plain": [
       "S    644\n",
       "C    168\n",
       "Q     77\n",
       "Name: Embarked, dtype: int64"
      ]
     },
     "execution_count": 26,
     "metadata": {},
     "output_type": "execute_result"
    }
   ],
   "source": [
    "# Verificando os valores na coluna Embarked\n",
    "treino.Embarked.value_counts()\n",
    "\n",
    "# o valor 644 é o mais frequente, sendo a moda dessa coluna - estatística"
   ]
  },
  {
   "cell_type": "code",
   "execution_count": 27,
   "id": "867b73d7",
   "metadata": {},
   "outputs": [
    {
     "data": {
      "text/plain": [
       "'S'"
      ]
     },
     "execution_count": 27,
     "metadata": {},
     "output_type": "execute_result"
    }
   ],
   "source": [
    "# Selecionando a moda dessa coluna\n",
    "treino.Embarked.mode()[0]"
   ]
  },
  {
   "cell_type": "code",
   "execution_count": 28,
   "id": "775ae7f6",
   "metadata": {},
   "outputs": [],
   "source": [
    "# Substituindo os valores vazios\n",
    "treino.loc[treino.Embarked.isnull(),\"Embarked\"] = treino.Embarked.mode()[0]"
   ]
  },
  {
   "cell_type": "markdown",
   "id": "befa930a",
   "metadata": {},
   "source": [
    "- Para finalizar, para a base de teste ainda temos 1 valor vazio em **Fare**\n",
    "    - Podemos utilizar a mesma lógica que fizemos para a coluna Age e substituir pela **média**"
   ]
  },
  {
   "cell_type": "code",
   "execution_count": 29,
   "id": "dcff7247",
   "metadata": {},
   "outputs": [],
   "source": [
    "# Verificando a média da coluna Fare para a base de teste\n",
    "teste.loc[teste.Fare.isnull(),\"Fare\"] = teste.Fare.mean()"
   ]
  },
  {
   "cell_type": "markdown",
   "id": "7558e543",
   "metadata": {},
   "source": [
    "- **Verificando novamente os valores vazios**"
   ]
  },
  {
   "cell_type": "code",
   "execution_count": 30,
   "id": "dff8d3d5",
   "metadata": {},
   "outputs": [
    {
     "data": {
      "text/plain": [
       "PassengerId    0\n",
       "Survived       0\n",
       "Pclass         0\n",
       "Sex            0\n",
       "Age            0\n",
       "dtype: int64"
      ]
     },
     "execution_count": 30,
     "metadata": {},
     "output_type": "execute_result"
    }
   ],
   "source": [
    "# Para a base de treino\n",
    "treino.isnull().sum().sort_values(ascending=False).head(5)\n",
    "\n",
    "# todos os valores foram tratados"
   ]
  },
  {
   "cell_type": "code",
   "execution_count": 31,
   "id": "0369a986",
   "metadata": {},
   "outputs": [
    {
     "data": {
      "text/plain": [
       "PassengerId    0\n",
       "Pclass         0\n",
       "Sex            0\n",
       "Age            0\n",
       "SibSp          0\n",
       "dtype: int64"
      ]
     },
     "execution_count": 31,
     "metadata": {},
     "output_type": "execute_result"
    }
   ],
   "source": [
    "# Para a base de teste\n",
    "teste.isnull().sum().sort_values(ascending=False).head(5)\n",
    "\n",
    "# todos os valores foram tratados"
   ]
  },
  {
   "cell_type": "markdown",
   "id": "ef81eda3",
   "metadata": {},
   "source": [
    "### Considerando apenas as colunas que não são de texto"
   ]
  },
  {
   "cell_type": "code",
   "execution_count": 33,
   "id": "ffbf4a5c",
   "metadata": {},
   "outputs": [
    {
     "data": {
      "text/plain": [
       "Index(['PassengerId', 'Survived', 'Pclass', 'Age', 'SibSp', 'Parch', 'Fare'], dtype='object')"
      ]
     },
     "execution_count": 33,
     "metadata": {},
     "output_type": "execute_result"
    }
   ],
   "source": [
    "# Verificando as colunas de que não são texto na base de treino -> object = texto\n",
    "col_treino_nr = treino.columns[treino.dtypes !=\"object\"]\n",
    "col_treino_nr\n",
    "# != diferente de"
   ]
  },
  {
   "cell_type": "code",
   "execution_count": 34,
   "id": "f5ce9e75",
   "metadata": {},
   "outputs": [],
   "source": [
    "# Selecionando apenas os valores numéricos da base de treino\n",
    "treino_nr = treino.loc[:,col_treino_nr]\n"
   ]
  },
  {
   "cell_type": "code",
   "execution_count": 36,
   "id": "ec8de66e",
   "metadata": {},
   "outputs": [
    {
     "data": {
      "text/plain": [
       "Index(['PassengerId', 'Pclass', 'Age', 'SibSp', 'Parch', 'Fare'], dtype='object')"
      ]
     },
     "execution_count": 36,
     "metadata": {},
     "output_type": "execute_result"
    }
   ],
   "source": [
    "# E para a base de teste\n",
    "col_teste_nr = teste.columns[teste.dtypes !=\"object\"]\n",
    "col_teste_nr\n",
    "\n",
    "# não há coluna Survived como na de treino"
   ]
  },
  {
   "cell_type": "code",
   "execution_count": 38,
   "id": "674d37b1",
   "metadata": {},
   "outputs": [],
   "source": [
    "# e os valores numéricos da base de teste\n",
    "teste_nr = treino.loc[:,col_teste_nr]"
   ]
  },
  {
   "cell_type": "markdown",
   "id": "82b1af18",
   "metadata": {},
   "source": [
    "### Podemos agora selecionar um modelo para classificar esses dados\n",
    "- Para começar, vamos testar entre:\n",
    "    - **Árvore de classificação**\n",
    "        - https://scikit-learn.org/stable/modules/tree.html#classification\n",
    "    - **Classificação dos vizinhos mais próximos**\n",
    "        - https://scikit-learn.org/stable/modules/generated/sklearn.neighbors.KNeighborsClassifier.html#sklearn.neighbors.KNeighborsClassifier\n",
    "    - **Regressão Logística**\n",
    "        - https://scikit-learn.org/stable/modules/generated/sklearn.linear_model.LogisticRegression.html#sklearn.linear_model.LogisticRegression"
   ]
  },
  {
   "cell_type": "markdown",
   "id": "5ae2ee76",
   "metadata": {},
   "source": [
    "- Antes de usar os algoritmos, precisamos separar a base de treino em **treino e validação**\n",
    "    - Vamos fazer isso utilizando o **train_test_split**\n",
    "        - https://scikit-learn.org/stable/modules/generated/sklearn.model_selection.train_test_split.html"
   ]
  },
  {
   "cell_type": "code",
   "execution_count": 39,
   "id": "769a8cba",
   "metadata": {},
   "outputs": [],
   "source": [
    "# Importando o train_test_split\n",
    "from sklearn.model_selection import train_test_split"
   ]
  },
  {
   "cell_type": "code",
   "execution_count": 42,
   "id": "17dafbcf",
   "metadata": {},
   "outputs": [],
   "source": [
    "# Separando a base de treino em X e y\n",
    "x = treino_nr.drop([\"PassengerId\",\"Survived\"], axis=1)\n",
    "y = treino.Survived\n",
    "\n",
    "# tira a coluna survived, mas ela continua na base porque precisa dela para submissão \n",
    "# tira o passagerId porque ele atrapalha na análise\n",
    "# não trabalha com colunas de texto, só numéricas(treino_nr), porque os algoritmos não foram feitos para trabalhar com colunas de texto"
   ]
  },
  {
   "cell_type": "code",
   "execution_count": 43,
   "id": "54bfceae",
   "metadata": {},
   "outputs": [],
   "source": [
    "# Separando em treino e validação\n",
    "x_train, X_val ,y_train, y_val = train_test_split(x,y, test_size=0.33, random_state=42)\n",
    "\n",
    "\n",
    "# para não confundir X_test com a base teste, foi usado X_val e y_val(validação)"
   ]
  },
  {
   "cell_type": "markdown",
   "id": "267172c2",
   "metadata": {},
   "source": [
    "- Para a **árvore de classificação**"
   ]
  },
  {
   "cell_type": "code",
   "execution_count": 44,
   "id": "33f1d741",
   "metadata": {},
   "outputs": [],
   "source": [
    "# Fazendo a importação\n",
    "from sklearn import tree"
   ]
  },
  {
   "cell_type": "code",
   "execution_count": 49,
   "id": "954b1f36",
   "metadata": {},
   "outputs": [],
   "source": [
    "# Criando o classificador\n",
    "clf_ac = tree.DecisionTreeClassifier(random_state=42)\n",
    "\n",
    "# código da documentação do link da árvore de classificação\n",
    "# _ac = árvore de classificação"
   ]
  },
  {
   "cell_type": "code",
   "execution_count": 50,
   "id": "cb3734c7",
   "metadata": {},
   "outputs": [],
   "source": [
    "# Fazendo o fit com os dados\n",
    "clf_ac = clf_ac.fit(x_train,y_train)"
   ]
  },
  {
   "cell_type": "code",
   "execution_count": 51,
   "id": "78852919",
   "metadata": {},
   "outputs": [],
   "source": [
    "# Fazendo a previsão\n",
    "y_pred_ac = clf_ac.predict(X_val)"
   ]
  },
  {
   "cell_type": "markdown",
   "id": "dc19b4e5",
   "metadata": {},
   "source": [
    "- Para o **KNeighborsClassifier**"
   ]
  },
  {
   "cell_type": "code",
   "execution_count": 53,
   "id": "f9f971e7",
   "metadata": {},
   "outputs": [],
   "source": [
    "# Importando\n",
    "from sklearn.neighbors import KNeighborsClassifier"
   ]
  },
  {
   "cell_type": "code",
   "execution_count": 55,
   "id": "da8a904f",
   "metadata": {},
   "outputs": [],
   "source": [
    "# Criando o classificador\n",
    "clf_knn = KNeighborsClassifier(n_neighbors=3)\n",
    "# código da documentação KNN"
   ]
  },
  {
   "cell_type": "code",
   "execution_count": 58,
   "id": "de05cae2",
   "metadata": {},
   "outputs": [],
   "source": [
    "# Fazendo o fit com os dados\n",
    "clf_knn = clf_knn.fit(x_train, y_train)"
   ]
  },
  {
   "cell_type": "code",
   "execution_count": 59,
   "id": "3caac52c",
   "metadata": {},
   "outputs": [],
   "source": [
    "# Fazendo a previsão\n",
    "y_pred_knn = clf_knn.predict(X_val)"
   ]
  },
  {
   "cell_type": "markdown",
   "id": "749c3fe8",
   "metadata": {},
   "source": [
    "- E para a **Regressão Logística**"
   ]
  },
  {
   "cell_type": "code",
   "execution_count": 60,
   "id": "45b3b211",
   "metadata": {},
   "outputs": [],
   "source": [
    "# Importando\n",
    "from sklearn.linear_model import LogisticRegression"
   ]
  },
  {
   "cell_type": "code",
   "execution_count": 61,
   "id": "948fc8bd",
   "metadata": {},
   "outputs": [],
   "source": [
    "# Criando o classificador\n",
    "clf_rl = LogisticRegression(random_state=42)"
   ]
  },
  {
   "cell_type": "code",
   "execution_count": 62,
   "id": "c2014d6d",
   "metadata": {},
   "outputs": [],
   "source": [
    "# Fazendo o fit com os dados\n",
    "clf_rl = clf_rl.fit(x_train, y_train)"
   ]
  },
  {
   "cell_type": "code",
   "execution_count": 64,
   "id": "8e878605",
   "metadata": {},
   "outputs": [],
   "source": [
    "# Fazendo a previsão\n",
    "y_pred_rl = clf_rl.predict(X_val)"
   ]
  },
  {
   "cell_type": "markdown",
   "id": "a9176a1c",
   "metadata": {},
   "source": [
    "### E, para finalizar, vamos avaliar esses modelos\n",
    "- Para fazer essa análise, podemos usar:\n",
    "    - Acurácia (método de avaliação usado na competição):\n",
    "        - https://scikit-learn.org/stable/modules/generated/sklearn.metrics.accuracy_score.html\n",
    "    - Matriz de confusão (ajuda a visualizar a distribuição dos erros):\n",
    "        - https://scikit-learn.org/stable/modules/generated/sklearn.metrics.confusion_matrix.html"
   ]
  },
  {
   "cell_type": "markdown",
   "id": "6df51415",
   "metadata": {},
   "source": [
    "- Avaliando a **acurácia**"
   ]
  },
  {
   "cell_type": "code",
   "execution_count": 65,
   "id": "a5b05922",
   "metadata": {},
   "outputs": [],
   "source": [
    "# Importando\n",
    "from sklearn.metrics import accuracy_score\n"
   ]
  },
  {
   "cell_type": "code",
   "execution_count": 66,
   "id": "e30194eb",
   "metadata": {},
   "outputs": [
    {
     "data": {
      "text/plain": [
       "0.6169491525423729"
      ]
     },
     "execution_count": 66,
     "metadata": {},
     "output_type": "execute_result"
    }
   ],
   "source": [
    "# Para a árvore\n",
    "accuracy_score(y_val,y_pred_ac)"
   ]
  },
  {
   "cell_type": "code",
   "execution_count": 67,
   "id": "48ab9f2b",
   "metadata": {},
   "outputs": [
    {
     "data": {
      "text/plain": [
       "0.6542372881355932"
      ]
     },
     "execution_count": 67,
     "metadata": {},
     "output_type": "execute_result"
    }
   ],
   "source": [
    "# Para o knn\n",
    "accuracy_score(y_val,y_pred_knn)"
   ]
  },
  {
   "cell_type": "code",
   "execution_count": 68,
   "id": "0a47a83e",
   "metadata": {},
   "outputs": [
    {
     "data": {
      "text/plain": [
       "0.7254237288135593"
      ]
     },
     "execution_count": 68,
     "metadata": {},
     "output_type": "execute_result"
    }
   ],
   "source": [
    "# Para a regressão logística\n",
    "accuracy_score(y_val,y_pred_rl)\n",
    "\n",
    "# o melhor modelo entre os 3 por ter 0.72, ou seja 72% de acurácia"
   ]
  },
  {
   "cell_type": "markdown",
   "id": "75f1463d",
   "metadata": {},
   "source": [
    "- Avaliando a **matriz de confusão** - Verificar a distribuição de erros"
   ]
  },
  {
   "cell_type": "code",
   "execution_count": 69,
   "id": "93e0460f",
   "metadata": {},
   "outputs": [],
   "source": [
    "# Importando\n",
    "from sklearn.metrics import confusion_matrix"
   ]
  },
  {
   "cell_type": "code",
   "execution_count": 70,
   "id": "5cde2465",
   "metadata": {},
   "outputs": [
    {
     "data": {
      "text/plain": [
       "array([[125,  50],\n",
       "       [ 63,  57]], dtype=int64)"
      ]
     },
     "execution_count": 70,
     "metadata": {},
     "output_type": "execute_result"
    }
   ],
   "source": [
    "# Para a árvore\n",
    "confusion_matrix(y_val,y_pred_ac)"
   ]
  },
  {
   "cell_type": "code",
   "execution_count": 71,
   "id": "8e83d4d9",
   "metadata": {},
   "outputs": [
    {
     "data": {
      "text/plain": [
       "array([[133,  42],\n",
       "       [ 60,  60]], dtype=int64)"
      ]
     },
     "execution_count": 71,
     "metadata": {},
     "output_type": "execute_result"
    }
   ],
   "source": [
    "# Para o knn\n",
    "confusion_matrix(y_val,y_pred_knn)"
   ]
  },
  {
   "cell_type": "code",
   "execution_count": 72,
   "id": "b3f4499b",
   "metadata": {},
   "outputs": [
    {
     "data": {
      "text/plain": [
       "array([[156,  19],\n",
       "       [ 62,  58]], dtype=int64)"
      ]
     },
     "execution_count": 72,
     "metadata": {},
     "output_type": "execute_result"
    }
   ],
   "source": [
    "# Para a regressão logística - está melhor que os outros\n",
    "confusion_matrix(y_val,y_pred_rl)"
   ]
  },
  {
   "cell_type": "markdown",
   "id": "70fb0198",
   "metadata": {},
   "source": [
    "### Fazendo a previsão para os dados de teste\n",
    "- Vamos usar o modelo com melhor precisão para fazer o predict na base de teste"
   ]
  },
  {
   "cell_type": "code",
   "execution_count": 84,
   "id": "e2661e59",
   "metadata": {},
   "outputs": [
    {
     "data": {
      "text/html": [
       "<div>\n",
       "<style scoped>\n",
       "    .dataframe tbody tr th:only-of-type {\n",
       "        vertical-align: middle;\n",
       "    }\n",
       "\n",
       "    .dataframe tbody tr th {\n",
       "        vertical-align: top;\n",
       "    }\n",
       "\n",
       "    .dataframe thead th {\n",
       "        text-align: right;\n",
       "    }\n",
       "</style>\n",
       "<table border=\"1\" class=\"dataframe\">\n",
       "  <thead>\n",
       "    <tr style=\"text-align: right;\">\n",
       "      <th></th>\n",
       "      <th>Pclass</th>\n",
       "      <th>Age</th>\n",
       "      <th>SibSp</th>\n",
       "      <th>Parch</th>\n",
       "      <th>Fare</th>\n",
       "    </tr>\n",
       "  </thead>\n",
       "  <tbody>\n",
       "    <tr>\n",
       "      <th>6</th>\n",
       "      <td>1</td>\n",
       "      <td>54.000000</td>\n",
       "      <td>0</td>\n",
       "      <td>0</td>\n",
       "      <td>51.8625</td>\n",
       "    </tr>\n",
       "    <tr>\n",
       "      <th>718</th>\n",
       "      <td>3</td>\n",
       "      <td>29.699118</td>\n",
       "      <td>0</td>\n",
       "      <td>0</td>\n",
       "      <td>15.5000</td>\n",
       "    </tr>\n",
       "    <tr>\n",
       "      <th>685</th>\n",
       "      <td>2</td>\n",
       "      <td>25.000000</td>\n",
       "      <td>1</td>\n",
       "      <td>2</td>\n",
       "      <td>41.5792</td>\n",
       "    </tr>\n",
       "    <tr>\n",
       "      <th>73</th>\n",
       "      <td>3</td>\n",
       "      <td>26.000000</td>\n",
       "      <td>1</td>\n",
       "      <td>0</td>\n",
       "      <td>14.4542</td>\n",
       "    </tr>\n",
       "    <tr>\n",
       "      <th>882</th>\n",
       "      <td>3</td>\n",
       "      <td>22.000000</td>\n",
       "      <td>0</td>\n",
       "      <td>0</td>\n",
       "      <td>10.5167</td>\n",
       "    </tr>\n",
       "  </tbody>\n",
       "</table>\n",
       "</div>"
      ],
      "text/plain": [
       "     Pclass        Age  SibSp  Parch     Fare\n",
       "6         1  54.000000      0      0  51.8625\n",
       "718       3  29.699118      0      0  15.5000\n",
       "685       2  25.000000      1      2  41.5792\n",
       "73        3  26.000000      1      0  14.4542\n",
       "882       3  22.000000      0      0  10.5167"
      ]
     },
     "execution_count": 84,
     "metadata": {},
     "output_type": "execute_result"
    }
   ],
   "source": [
    "# Visualizando o X_train\n",
    "x_train.head()"
   ]
  },
  {
   "cell_type": "code",
   "execution_count": 85,
   "id": "3be47ba2",
   "metadata": {},
   "outputs": [
    {
     "data": {
      "text/html": [
       "<div>\n",
       "<style scoped>\n",
       "    .dataframe tbody tr th:only-of-type {\n",
       "        vertical-align: middle;\n",
       "    }\n",
       "\n",
       "    .dataframe tbody tr th {\n",
       "        vertical-align: top;\n",
       "    }\n",
       "\n",
       "    .dataframe thead th {\n",
       "        text-align: right;\n",
       "    }\n",
       "</style>\n",
       "<table border=\"1\" class=\"dataframe\">\n",
       "  <thead>\n",
       "    <tr style=\"text-align: right;\">\n",
       "      <th></th>\n",
       "      <th>PassengerId</th>\n",
       "      <th>Pclass</th>\n",
       "      <th>Age</th>\n",
       "      <th>SibSp</th>\n",
       "      <th>Parch</th>\n",
       "      <th>Fare</th>\n",
       "    </tr>\n",
       "  </thead>\n",
       "  <tbody>\n",
       "    <tr>\n",
       "      <th>0</th>\n",
       "      <td>1</td>\n",
       "      <td>3</td>\n",
       "      <td>22.0</td>\n",
       "      <td>1</td>\n",
       "      <td>0</td>\n",
       "      <td>7.2500</td>\n",
       "    </tr>\n",
       "    <tr>\n",
       "      <th>1</th>\n",
       "      <td>2</td>\n",
       "      <td>1</td>\n",
       "      <td>38.0</td>\n",
       "      <td>1</td>\n",
       "      <td>0</td>\n",
       "      <td>71.2833</td>\n",
       "    </tr>\n",
       "    <tr>\n",
       "      <th>2</th>\n",
       "      <td>3</td>\n",
       "      <td>3</td>\n",
       "      <td>26.0</td>\n",
       "      <td>0</td>\n",
       "      <td>0</td>\n",
       "      <td>7.9250</td>\n",
       "    </tr>\n",
       "    <tr>\n",
       "      <th>3</th>\n",
       "      <td>4</td>\n",
       "      <td>1</td>\n",
       "      <td>35.0</td>\n",
       "      <td>1</td>\n",
       "      <td>0</td>\n",
       "      <td>53.1000</td>\n",
       "    </tr>\n",
       "    <tr>\n",
       "      <th>4</th>\n",
       "      <td>5</td>\n",
       "      <td>3</td>\n",
       "      <td>35.0</td>\n",
       "      <td>0</td>\n",
       "      <td>0</td>\n",
       "      <td>8.0500</td>\n",
       "    </tr>\n",
       "  </tbody>\n",
       "</table>\n",
       "</div>"
      ],
      "text/plain": [
       "   PassengerId  Pclass   Age  SibSp  Parch     Fare\n",
       "0            1       3  22.0      1      0   7.2500\n",
       "1            2       1  38.0      1      0  71.2833\n",
       "2            3       3  26.0      0      0   7.9250\n",
       "3            4       1  35.0      1      0  53.1000\n",
       "4            5       3  35.0      0      0   8.0500"
      ]
     },
     "execution_count": 85,
     "metadata": {},
     "output_type": "execute_result"
    }
   ],
   "source": [
    "# Visualizando a base de teste (apenas com valores numéricos)\n",
    "teste_nr.head()\n",
    "\n",
    "# não deveria ter a coluna passengerId"
   ]
  },
  {
   "cell_type": "code",
   "execution_count": 86,
   "id": "4f130a33",
   "metadata": {},
   "outputs": [],
   "source": [
    "# Para a base de teste ser igual a base de treino, precisamos eliminar a coluna de id\n",
    "X_teste = teste_nr.drop(\"PassengerId\", axis=1)"
   ]
  },
  {
   "cell_type": "code",
   "execution_count": 87,
   "id": "a88ce180",
   "metadata": {},
   "outputs": [],
   "source": [
    "# Utilizando a regressão logística na base de teste\n",
    "y_pred =clf_rl.predict(X_teste)"
   ]
  },
  {
   "cell_type": "code",
   "execution_count": null,
   "id": "84ed142a",
   "metadata": {},
   "outputs": [],
   "source": [
    "# Criando uma nova coluna com a previsão na base de teste\n",
    "\n",
    "teste[\"Survived\"] = y_pred\n",
    "\n",
    "# pois precisa enviar os dados da forma passenderId e survived "
   ]
  },
  {
   "cell_type": "code",
   "execution_count": 95,
   "id": "a7f24559",
   "metadata": {},
   "outputs": [],
   "source": [
    "# Selecionando apenas a coluna de Id e Survived para fazer o envio\n",
    "base_envio = teste[[\"PassengerId\",\"Survived\"]]"
   ]
  },
  {
   "cell_type": "code",
   "execution_count": 96,
   "id": "ced64242",
   "metadata": {},
   "outputs": [],
   "source": [
    "# Exportando para um csv\n",
    "base_envio.to_csv(\"resultado1.csv\", index=False)"
   ]
  },
  {
   "cell_type": "markdown",
   "id": "c46940b8",
   "metadata": {},
   "source": [
    "### Conclusão\n",
    "\n",
    "- A meta é 85% de acurácia.\n",
    "- Nos próximos arquivos desse Github, há novos códigos para atingir essa meta\n",
    "- O projeto mostra o aprendizado prático dos modelos de Machine Learning"
   ]
  }
 ],
 "metadata": {
  "kernelspec": {
   "display_name": "Python 3 (ipykernel)",
   "language": "python",
   "name": "python3"
  },
  "language_info": {
   "codemirror_mode": {
    "name": "ipython",
    "version": 3
   },
   "file_extension": ".py",
   "mimetype": "text/x-python",
   "name": "python",
   "nbconvert_exporter": "python",
   "pygments_lexer": "ipython3",
   "version": "3.10.9"
  }
 },
 "nbformat": 4,
 "nbformat_minor": 5
}
